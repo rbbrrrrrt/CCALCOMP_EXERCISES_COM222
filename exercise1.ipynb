{
 "cells": [
  {
   "cell_type": "code",
   "execution_count": 26,
   "metadata": {},
   "outputs": [],
   "source": [
    "\n",
    "# Add a vertex to the set of vertices and the graph\n",
    "def add_vertex(v):\n",
    "  global graph\n",
    "  global vertices_no\n",
    "  global vertices\n",
    "  if v in vertices:\n",
    "    print(\"Vertex \", v, \" already exists\")\n",
    "  else:\n",
    "    vertices_no = vertices_no + 1\n",
    "    vertices.append(v)\n",
    "    if vertices_no > 1:\n",
    "        for vertex in graph:\n",
    "            vertex.append(0)\n",
    "    temp = []\n",
    "    for i in range(vertices_no):\n",
    "        temp.append(0)\n",
    "    graph.append(temp)\n",
    "\n",
    "# Add an edge between vertex v1 and v2 with edge weight e\n",
    "def add_edge(v1, v2, e):\n",
    "    global graph\n",
    "    global vertices_no\n",
    "    global vertices\n",
    "    # Check if vertex v1 is a valid vertex\n",
    "    if v1 not in vertices:\n",
    "        print(\"Vertex \", v1, \" does not exist.\")\n",
    "    # Check if vertex v1 is a valid vertex\n",
    "    elif v2 not in vertices:\n",
    "        print(\"Vertex \", v2, \" does not exist.\")\n",
    "    # Since this code is not restricted to a directed or\n",
    "    # an undirected graph, an edge between v1 v2 does not\n",
    "    # imply that an edge exists between v2 and v1\n",
    "    else:\n",
    "        index1 = vertices.index(v1)\n",
    "        index2 = vertices.index(v2)\n",
    "        graph[index1][index2] = e\n",
    "\n",
    "# Print the graph\n",
    "def print_graph():\n",
    "  global graph\n",
    "  global vertices_no\n",
    "  for i in range(vertices_no):\n",
    "    for j in range(vertices_no):\n",
    "      if graph[i][j] != 0:\n",
    "        print(vertices[i], \" -> \", vertices[j],\n",
    "              \" edge weight:\", graph[i][j])\n",
    "\n",
    "\n"
   ]
  },
  {
   "cell_type": "code",
   "execution_count": 27,
   "metadata": {},
   "outputs": [],
   "source": [
    "# stores the vertices in the graph\n",
    "vertices = []\n",
    "# stores the number of vertices in the graph\n",
    "vertices_no = 0\n",
    "graph = []"
   ]
  },
  {
   "cell_type": "code",
   "execution_count": 28,
   "metadata": {},
   "outputs": [
    {
     "name": "stdout",
     "output_type": "stream",
     "text": [
      "Vertices:  ['A', 'B', 'C', 'D', 'E']\n",
      "Edges: \n",
      "A -> C | A -> D | B -> A | C -> B | C -> D | E -> A | "
     ]
    }
   ],
   "source": [
    "def print_edge():\n",
    "  global graph\n",
    "  global vertices_no\n",
    "  print(\"Edges: \")\n",
    "  for i in range(vertices_no):\n",
    "    for j in range(vertices_no):\n",
    "      if graph[i][j] != 0:\n",
    "        print(vertices[i], \"->\", vertices[j], \"| \", end=\"\")\n",
    "\n",
    "        \n",
    "        \n",
    "add_vertex(\"A\")\n",
    "add_vertex(\"B\")\n",
    "add_vertex(\"C\")\n",
    "add_vertex(\"D\")\n",
    "add_vertex(\"E\")\n",
    "\n",
    "\n",
    "add_edge('A', 'C', 12)\n",
    "add_edge('A', 'D', 60)\n",
    "add_edge('B', 'A', 10)\n",
    "add_edge('C', 'B', 20)\n",
    "add_edge('C', 'D', 32)\n",
    "add_edge('E', 'A', 7)\n",
    "\n",
    "print(\"Vertices: \", vertices)\n",
    "print_edge()"
   ]
  },
  {
   "cell_type": "code",
   "execution_count": 29,
   "metadata": {},
   "outputs": [
    {
     "name": "stdout",
     "output_type": "stream",
     "text": [
      "A  ->  C  edge weight: 12\n",
      "A  ->  D  edge weight: 60\n",
      "B  ->  A  edge weight: 10\n",
      "C  ->  B  edge weight: 20\n",
      "C  ->  D  edge weight: 32\n",
      "E  ->  A  edge weight: 7\n"
     ]
    }
   ],
   "source": [
    "\n",
    "add_edge('A', 'C', 12)\n",
    "add_edge('A', 'D', 60)\n",
    "add_edge('B', 'A', 10)\n",
    "add_edge('C', 'B', 20)\n",
    "add_edge('C', 'D', 32)\n",
    "add_edge('E', 'A', 7)\n",
    "\n",
    "print_graph()"
   ]
  },
  {
   "cell_type": "code",
   "execution_count": 38,
   "metadata": {},
   "outputs": [
    {
     "name": "stdout",
     "output_type": "stream",
     "text": [
      "Vertex  Manila  already exists\n",
      "Vertex  Puerto Princesa  already exists\n",
      "Vertex  Tacloban  already exists\n",
      "Vertex  Davao  already exists\n",
      "|Manila -> Tacloban -> Puerto princesa -> Davao -> Manila|\n",
      "Total Cost: 11500\n"
     ]
    }
   ],
   "source": [
    "add_vertex(\"Manila\")\n",
    "add_vertex(\"Puerto Princesa\")\n",
    "add_vertex(\"Tacloban\")\n",
    "add_vertex(\"Davao\")\n",
    "\n",
    "add_edge(\"Manila\", \"Tacloban\", 1000)\n",
    "add_edge(\"Tacloban\", \"Puerto Princesa\", 1500)\n",
    "add_edge(\"Puerto Princesa\", \"Davao\", 4000)\n",
    "add_edge(\"Davao\", \"Manila\", 5000)\n",
    "\n",
    "cost = 1000 + 1500 + 4000 + 5000\n",
    "\n",
    "print(\"|Manila -> Tacloban -> Puerto princesa -> Davao -> Manila|\")\n",
    "\n",
    "print(f\"Total Cost: {cost}\")"
   ]
  }
 ],
 "metadata": {
  "kernelspec": {
   "display_name": "Python 3",
   "language": "python",
   "name": "python3"
  },
  "language_info": {
   "codemirror_mode": {
    "name": "ipython",
    "version": 3
   },
   "file_extension": ".py",
   "mimetype": "text/x-python",
   "name": "python",
   "nbconvert_exporter": "python",
   "pygments_lexer": "ipython3",
   "version": "3.11.5"
  }
 },
 "nbformat": 4,
 "nbformat_minor": 2
}
